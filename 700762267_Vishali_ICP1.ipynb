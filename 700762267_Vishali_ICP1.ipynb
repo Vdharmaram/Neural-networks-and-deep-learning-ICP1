{
  "cells": [
    {
      "cell_type": "code",
      "execution_count": 3,
      "id": "aa0d3eb9",
      "metadata": {
        "id": "aa0d3eb9"
      },
      "outputs": [],
      "source": [
        "def Full_name(first_name=\"first name\",last_name='last name'):# Here i have created Full name method by passing arguments first name and last name\n",
        "    return first_name+' '+last_name # Here i have conacatinted both first name and last name which i have returned it as a string to the function"
      ]
    },
    {
      "cell_type": "code",
      "execution_count": 4,
      "id": "bd639e63",
      "metadata": {
        "colab": {
          "base_uri": "https://localhost:8080/"
        },
        "id": "bd639e63",
        "outputId": "4503f9e8-da4e-4fb7-e0db-9112f38450dd"
      },
      "outputs": [
        {
          "output_type": "stream",
          "name": "stdout",
          "text": [
            "Enter your first name:/nVishali\n",
            "Enter your last name:/nDharmaram\n",
            "Vishali Dharmaram\n"
          ]
        }
      ],
      "source": [
        "first_name=input(\"Enter your first name:/n\")# Used input function to accept a string from the user and stored in a variable\n",
        "last_name=input(\"Enter your last name:/n\")\n",
        "full_name=Full_name(first_name,last_name)#passed variables to the function\n",
        "print(full_name)"
      ]
    },
    {
      "cell_type": "code",
      "execution_count": 5,
      "id": "f02eadf1",
      "metadata": {
        "colab": {
          "base_uri": "https://localhost:8080/",
          "height": 35
        },
        "id": "f02eadf1",
        "outputId": "969ecaa3-418a-46f4-f9f1-f28f437051b4"
      },
      "outputs": [
        {
          "output_type": "execute_result",
          "data": {
            "text/plain": [
              "'Go vnn'"
            ],
            "application/vnd.google.colaboratory.intrinsic+json": {
              "type": "string"
            }
          },
          "metadata": {},
          "execution_count": 5
        }
      ],
      "source": [
        "def string_alternative(string):\n",
        "    abc=''\n",
        "    for z in range(0,len(string)):#Iterating the string from 0 to the lenght of the string\n",
        "        if(z%2==0):#Considering each character and applying modulus. Equating to 0 so that we can get the all the alternate characters in the string\n",
        "            abc=abc+string[z]#adding empty string to the list of characters according the index, so to return the string then print it.\n",
        "    return abc\n",
        "string_alternative('Good evening')#calling the function by passing \"Good Evening\" as a string."
      ]
    },
    {
      "cell_type": "code",
      "execution_count": null,
      "id": "92146fd1",
      "metadata": {
        "scrolled": true,
        "id": "92146fd1",
        "outputId": "226e2a12-7b49-4c9b-d590-1e0f6fad3c62"
      },
      "outputs": [
        {
          "name": "stdout",
          "output_type": "stream",
          "text": [
            "Python:1\n",
            "Course:2\n",
            "Deep:1\n",
            "Learning:1\n",
            "Course:2\n",
            "\n"
          ]
        }
      ],
      "source": [
        "with open('input_file.txt','r') as ipf:#creat file named input_file,Used read,split functions to read the file, split the words into several words\n",
        "    line=ipf.read()\n",
        "    word_count=line.split()\n",
        "    with open('output_file.txt','w') as opf:\n",
        "        for a in word_count: #iterating through word variable where the split of words are returned\n",
        "            opf.write(a+':'+str(word_count.count(a))+'\\n')\n",
        "opf=open('output_file.txt','r')\n",
        "print(opf.read())"
      ]
    },
    {
      "cell_type": "code",
      "execution_count": null,
      "id": "35970349",
      "metadata": {
        "id": "35970349"
      },
      "outputs": [],
      "source": [
        "# Nested interactive loop\n",
        "customer_heights=[]# Empty List\n",
        "\n",
        "while True:\n",
        "    x=float(input())\n",
        "    if(x<=0):\n",
        "        break\n",
        "    customer_heights.append(x)#this is in inches"
      ]
    },
    {
      "cell_type": "code",
      "execution_count": null,
      "id": "f1dc4867",
      "metadata": {
        "id": "f1dc4867",
        "outputId": "cade28e5-cc17-4389-e5c9-af82858b1fc0"
      },
      "outputs": [
        {
          "name": "stdout",
          "output_type": "stream",
          "text": [
            "[119.38, 60.96, 172.7962, 177.8762]\n"
          ]
        }
      ],
      "source": [
        "output=[x*2.54 for x in customer_heights]\n",
        "print(output)#this is in cm"
      ]
    },
    {
      "cell_type": "code",
      "execution_count": 7,
      "id": "de88da90",
      "metadata": {
        "colab": {
          "base_uri": "https://localhost:8080/"
        },
        "id": "de88da90",
        "outputId": "fb5c1155-d259-47c6-d4b7-542a547c169a"
      },
      "outputs": [
        {
          "output_type": "stream",
          "name": "stdout",
          "text": [
            "Enter the number of customers: 3\n",
            "Enter height of customer 1 in inches: 145\n",
            "Enter height of customer 2 in inches: 155\n",
            "Enter height of customer 3 in inches: 170\n",
            "[368.3, 393.7, 431.8]\n"
          ]
        }
      ],
      "source": [
        "# Using list comprehension\n",
        "def convert_cm(inches):\n",
        "    return round(inches * 2.54, 2)\n",
        "\n",
        "def comprehension():\n",
        "    cust_count = int(input(\"Enter the number of customers: \"))\n",
        "    inches = [float(input(f\"Enter height of customer {i + 1} in inches: \")) for i in range(cust_count)]\n",
        "    cm = [convert_cm(height) for height in inches]\n",
        "    print(cm)\n",
        "def main():\n",
        "    comprehension()\n",
        "if __name__ == \"__main__\":\n",
        "    main()"
      ]
    }
  ],
  "metadata": {
    "kernelspec": {
      "display_name": "Python 3 (ipykernel)",
      "language": "python",
      "name": "python3"
    },
    "language_info": {
      "codemirror_mode": {
        "name": "ipython",
        "version": 3
      },
      "file_extension": ".py",
      "mimetype": "text/x-python",
      "name": "python",
      "nbconvert_exporter": "python",
      "pygments_lexer": "ipython3",
      "version": "3.9.12"
    },
    "colab": {
      "provenance": []
    }
  },
  "nbformat": 4,
  "nbformat_minor": 5
}