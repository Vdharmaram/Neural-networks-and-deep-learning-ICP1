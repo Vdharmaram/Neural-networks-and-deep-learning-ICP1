{
  "nbformat": 4,
  "nbformat_minor": 0,
  "metadata": {
    "colab": {
      "provenance": []
    },
    "kernelspec": {
      "name": "python3",
      "display_name": "Python 3"
    },
    "language_info": {
      "name": "python"
    }
  },
  "cells": [
    {
      "cell_type": "markdown",
      "source": [
        "converting height(inches) to centimeter of listed customers"
      ],
      "metadata": {
        "id": "KW3r0qBUgj0k"
      }
    },
    {
      "cell_type": "code",
      "execution_count": 2,
      "metadata": {
        "colab": {
          "base_uri": "https://localhost:8080/"
        },
        "id": "5fikAR-id4-Q",
        "outputId": "9cf674af-0fc5-451d-ae99-d0627f245c02"
      },
      "outputs": [
        {
          "output_type": "stream",
          "name": "stdout",
          "text": [
            "Using Nested Interactive Loop:\n",
            "Enter the number of customers: 3\n",
            "Enter height of customer 1 in inches: 200\n",
            "Enter height of customer 2 in inches: 150\n",
            "Enter height of customer 3 in inches: 125\n",
            "Heights in inches: [200.0, 150.0, 125.0]\n",
            "Heights in centimeters (Nested Loop): [508.0, 381.0, 317.5]\n",
            "\n",
            "Using List Comprehension:\n",
            "Enter the number of customers: 3\n",
            "Enter height of customer 1 in inches: 124\n",
            "Enter height of customer 2 in inches: 156\n",
            "Enter height of customer 3 in inches: 145\n",
            "Heights in inches: [124.0, 156.0, 145.0]\n",
            "Heights in centimeters (List Comprehension): [314.96, 396.24, 368.3]\n"
          ]
        }
      ],
      "source": [
        "# Function to convert inches to centimeters\n",
        "def convert_to_cm(inches):\n",
        "    return round(inches * 2.54, 2)\n",
        "\n",
        "# Using a nested interactive loop\n",
        "def nested_loop_conversion():\n",
        "    num_customers = int(input(\"Enter the number of customers: \"))\n",
        "    heights_in_inches = []  # List to store heights in inches\n",
        "\n",
        "    # Nested interactive loop to collect heights and convert them\n",
        "    for i in range(num_customers):\n",
        "        height = float(input(f\"Enter height of customer {i + 1} in inches: \"))\n",
        "        heights_in_inches.append(height)\n",
        "\n",
        "    heights_in_cm = []  # List to store heights in centimeters\n",
        "    for height in heights_in_inches:\n",
        "        heights_in_cm.append(convert_to_cm(height))\n",
        "\n",
        "    print(\"Heights in inches:\", heights_in_inches)\n",
        "    print(\"Heights in centimeters (Nested Loop):\", heights_in_cm)\n",
        "\n",
        "# Using list comprehension\n",
        "def list_comprehension_conversion():\n",
        "    num_customers = int(input(\"Enter the number of customers: \"))\n",
        "    # Input heights in inches using list comprehension\n",
        "    heights_in_inches = [float(input(f\"Enter height of customer {i + 1} in inches: \")) for i in range(num_customers)]\n",
        "    # Convert to centimeters using list comprehension\n",
        "    heights_in_cm = [convert_to_cm(height) for height in heights_in_inches]\n",
        "\n",
        "    print(\"Heights in inches:\", heights_in_inches)\n",
        "    print(\"Heights in centimeters (List Comprehension):\", heights_in_cm)\n",
        "\n",
        "# Main function\n",
        "def main():\n",
        "    print(\"Using Nested Interactive Loop:\")\n",
        "    nested_loop_conversion()\n",
        "    print(\"\\nUsing List Comprehension:\")\n",
        "    list_comprehension_conversion()\n",
        "\n",
        "# Call the main function\n",
        "if __name__ == \"__main__\":\n",
        "    main()"
      ]
    }
  ]
}