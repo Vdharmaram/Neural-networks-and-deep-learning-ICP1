{
  "nbformat": 4,
  "nbformat_minor": 0,
  "metadata": {
    "colab": {
      "provenance": []
    },
    "kernelspec": {
      "name": "python3",
      "display_name": "Python 3"
    },
    "language_info": {
      "name": "python"
    }
  },
  "cells": [
    {
      "cell_type": "code",
      "execution_count": 1,
      "metadata": {
        "colab": {
          "base_uri": "https://localhost:8080/"
        },
        "id": "cpRx91TvqMFQ",
        "outputId": "8e8965b8-5f24-40dc-f0ae-fc8b43eb869c"
      },
      "outputs": [
        {
          "output_type": "stream",
          "name": "stdout",
          "text": [
            "Enter your first name: vishali\n",
            "Enter your last name: dharmaram\n",
            "Full name: vishali dharmaram\n",
            "Every other character: vsaidamrm\n"
          ]
        }
      ],
      "source": [
        "def fullname(first_name, last_name):\n",
        "    return first_name + \" \" + last_name\n",
        "def string_alternative(full_name):\n",
        "    return full_name[::2]\n",
        "def main():\n",
        "    first_name = input(\"Enter your first name: \")\n",
        "    last_name = input(\"Enter your last name: \")\n",
        "\n",
        "    # Get the full name by calling the fullname function\n",
        "    full_name = fullname(first_name, last_name)\n",
        "    print(f\"Full name: {full_name}\")\n",
        "\n",
        "    # Get every other character of the full name by calling the string_alternative function\n",
        "    result = string_alternative(full_name)\n",
        "    print(f\"Every other character: {result}\")\n",
        "\n",
        "# Calling main function\n",
        "if __name__ == \"__main__\":\n",
        "    main()"
      ]
    },
    {
      "cell_type": "markdown",
      "source": [
        "#Get the full name by calling the fullname function"
      ],
      "metadata": {
        "id": "P0cGvQ23NodO"
      }
    }
  ]
}